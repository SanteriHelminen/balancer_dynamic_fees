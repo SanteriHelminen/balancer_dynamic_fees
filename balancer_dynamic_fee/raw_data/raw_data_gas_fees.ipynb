{
 "cells": [
  {
   "cell_type": "code",
   "execution_count": 2,
   "metadata": {},
   "outputs": [],
   "source": [
    "import pandas as pd\n",
    "import duckdb\n",
    "# Display all columns\n",
    "pd.set_option('display.max_columns', None)\n",
    "\n",
    "# Set max column width to a large value\n",
    "pd.set_option('display.max_colwidth', None)\n",
    "\n",
    "# Create a new DuckDB database file\n",
    "con = duckdb.connect('balancer_dynamic_fee.duckdb')"
   ]
  },
  {
   "cell_type": "code",
   "execution_count": 3,
   "metadata": {},
   "outputs": [
    {
     "data": {
      "text/html": [
       "<div>\n",
       "<style scoped>\n",
       "    .dataframe tbody tr th:only-of-type {\n",
       "        vertical-align: middle;\n",
       "    }\n",
       "\n",
       "    .dataframe tbody tr th {\n",
       "        vertical-align: top;\n",
       "    }\n",
       "\n",
       "    .dataframe thead th {\n",
       "        text-align: right;\n",
       "    }\n",
       "</style>\n",
       "<table border=\"1\" class=\"dataframe\">\n",
       "  <thead>\n",
       "    <tr style=\"text-align: right;\">\n",
       "      <th></th>\n",
       "      <th>Count</th>\n",
       "    </tr>\n",
       "  </thead>\n",
       "  <tbody>\n",
       "    <tr>\n",
       "      <th>0</th>\n",
       "      <td>7033999</td>\n",
       "    </tr>\n",
       "  </tbody>\n",
       "</table>\n",
       "</div>"
      ],
      "text/plain": [
       "     Count\n",
       "0  7033999"
      ]
     },
     "execution_count": 3,
     "metadata": {},
     "output_type": "execute_result"
    }
   ],
   "source": [
    "block_gas_fees_mainnet = pd.read_csv('block_gas_fees_mainnet.csv')\n",
    "block_gas_fees_mainnet.columns = ['block_number', 'gas_fee']\n",
    "con.execute('CREATE TABLE block_fees_mainnet AS SELECT * FROM block_gas_fees_mainnet').fetchdf()"
   ]
  },
  {
   "cell_type": "code",
   "execution_count": 3,
   "metadata": {},
   "outputs": [
    {
     "data": {
      "text/html": [
       "<div>\n",
       "<style scoped>\n",
       "    .dataframe tbody tr th:only-of-type {\n",
       "        vertical-align: middle;\n",
       "    }\n",
       "\n",
       "    .dataframe tbody tr th {\n",
       "        vertical-align: top;\n",
       "    }\n",
       "\n",
       "    .dataframe thead th {\n",
       "        text-align: right;\n",
       "    }\n",
       "</style>\n",
       "<table border=\"1\" class=\"dataframe\">\n",
       "  <thead>\n",
       "    <tr style=\"text-align: right;\">\n",
       "      <th></th>\n",
       "      <th>block_number</th>\n",
       "      <th>base_fee</th>\n",
       "      <th>priority_fee</th>\n",
       "      <th>gas_fee</th>\n",
       "    </tr>\n",
       "  </thead>\n",
       "  <tbody>\n",
       "    <tr>\n",
       "      <th>0</th>\n",
       "      <td>40156252</td>\n",
       "      <td>96124467752</td>\n",
       "      <td>48473324648</td>\n",
       "      <td>144597792400</td>\n",
       "    </tr>\n",
       "    <tr>\n",
       "      <th>1</th>\n",
       "      <td>40156253</td>\n",
       "      <td>97824039546</td>\n",
       "      <td>50388051393</td>\n",
       "      <td>148212090939</td>\n",
       "    </tr>\n",
       "    <tr>\n",
       "      <th>2</th>\n",
       "      <td>40156254</td>\n",
       "      <td>101024752441</td>\n",
       "      <td>52248940332</td>\n",
       "      <td>153273692773</td>\n",
       "    </tr>\n",
       "    <tr>\n",
       "      <th>3</th>\n",
       "      <td>40156255</td>\n",
       "      <td>102258878848</td>\n",
       "      <td>47741121152</td>\n",
       "      <td>150000000000</td>\n",
       "    </tr>\n",
       "    <tr>\n",
       "      <th>4</th>\n",
       "      <td>40156256</td>\n",
       "      <td>103898320462</td>\n",
       "      <td>49723719576</td>\n",
       "      <td>153622040038</td>\n",
       "    </tr>\n",
       "    <tr>\n",
       "      <th>...</th>\n",
       "      <td>...</td>\n",
       "      <td>...</td>\n",
       "      <td>...</td>\n",
       "      <td>...</td>\n",
       "    </tr>\n",
       "    <tr>\n",
       "      <th>17498275</th>\n",
       "      <td>57659787</td>\n",
       "      <td>22</td>\n",
       "      <td>30999999978</td>\n",
       "      <td>31000000000</td>\n",
       "    </tr>\n",
       "    <tr>\n",
       "      <th>17498276</th>\n",
       "      <td>57659788</td>\n",
       "      <td>22</td>\n",
       "      <td>31999999978</td>\n",
       "      <td>32000000000</td>\n",
       "    </tr>\n",
       "    <tr>\n",
       "      <th>17498277</th>\n",
       "      <td>57659789</td>\n",
       "      <td>22</td>\n",
       "      <td>30000000000</td>\n",
       "      <td>30000000022</td>\n",
       "    </tr>\n",
       "    <tr>\n",
       "      <th>17498278</th>\n",
       "      <td>57659790</td>\n",
       "      <td>22</td>\n",
       "      <td>30000000000</td>\n",
       "      <td>30000000022</td>\n",
       "    </tr>\n",
       "    <tr>\n",
       "      <th>17498279</th>\n",
       "      <td>57659791</td>\n",
       "      <td>22</td>\n",
       "      <td>36600000005</td>\n",
       "      <td>36600000027</td>\n",
       "    </tr>\n",
       "  </tbody>\n",
       "</table>\n",
       "<p>17498280 rows × 4 columns</p>\n",
       "</div>"
      ],
      "text/plain": [
       "0        block_number      base_fee priority_fee       gas_fee\n",
       "0            40156252   96124467752  48473324648  144597792400\n",
       "1            40156253   97824039546  50388051393  148212090939\n",
       "2            40156254  101024752441  52248940332  153273692773\n",
       "3            40156255  102258878848  47741121152  150000000000\n",
       "4            40156256  103898320462  49723719576  153622040038\n",
       "...               ...           ...          ...           ...\n",
       "17498275     57659787            22  30999999978   31000000000\n",
       "17498276     57659788            22  31999999978   32000000000\n",
       "17498277     57659789            22  30000000000   30000000022\n",
       "17498278     57659790            22  30000000000   30000000022\n",
       "17498279     57659791            22  36600000005   36600000027\n",
       "\n",
       "[17498280 rows x 4 columns]"
      ]
     },
     "execution_count": 3,
     "metadata": {},
     "output_type": "execute_result"
    }
   ],
   "source": [
    "block_gas_fees_polygon = pd.read_csv('block_gas_fees_polygon.csv')\n",
    "\n",
    "# Add column names\n",
    "block_gas_fees_polygon = block_gas_fees_polygon.reset_index(drop=True)\n",
    "block_gas_fees_polygon.index = block_gas_fees_polygon.index + 1\n",
    "new_row = pd.DataFrame([['block_number', 'base_fee', 'priority_fee', 'gas_fee']], \n",
    "                       index=[0], \n",
    "                       columns=block_gas_fees_polygon.columns)\n",
    "block_gas_fees_polygon = pd.concat([new_row, block_gas_fees_polygon]).reset_index(drop=True)\n",
    "block_gas_fees_polygon.columns = block_gas_fees_polygon.iloc[0]\n",
    "block_gas_fees_polygon = block_gas_fees_polygon.drop(block_gas_fees_polygon.index[0])\n",
    "block_gas_fees_polygon = block_gas_fees_polygon.reset_index(drop=True)\n",
    "\n",
    "block_gas_fees_polygon"
   ]
  },
  {
   "cell_type": "code",
   "execution_count": 6,
   "metadata": {},
   "outputs": [
    {
     "data": {
      "text/html": [
       "<div>\n",
       "<style scoped>\n",
       "    .dataframe tbody tr th:only-of-type {\n",
       "        vertical-align: middle;\n",
       "    }\n",
       "\n",
       "    .dataframe tbody tr th {\n",
       "        vertical-align: top;\n",
       "    }\n",
       "\n",
       "    .dataframe thead th {\n",
       "        text-align: right;\n",
       "    }\n",
       "</style>\n",
       "<table border=\"1\" class=\"dataframe\">\n",
       "  <thead>\n",
       "    <tr style=\"text-align: right;\">\n",
       "      <th></th>\n",
       "      <th>Count</th>\n",
       "    </tr>\n",
       "  </thead>\n",
       "  <tbody>\n",
       "    <tr>\n",
       "      <th>0</th>\n",
       "      <td>17498280</td>\n",
       "    </tr>\n",
       "  </tbody>\n",
       "</table>\n",
       "</div>"
      ],
      "text/plain": [
       "      Count\n",
       "0  17498280"
      ]
     },
     "execution_count": 6,
     "metadata": {},
     "output_type": "execute_result"
    }
   ],
   "source": [
    "block_gas_fees_polygon = block_gas_fees_polygon[['block_number', 'gas_fee']]\n",
    "con.execute('CREATE TABLE block_fees_polygon AS SELECT * FROM block_gas_fees_polygon').fetchdf()"
   ]
  },
  {
   "cell_type": "code",
   "execution_count": 7,
   "metadata": {},
   "outputs": [],
   "source": [
    "# Commit the changes\n",
    "con.commit()\n",
    "\n",
    "# Close the connection\n",
    "con.close()"
   ]
  }
 ],
 "metadata": {
  "kernelspec": {
   "display_name": "Python 3",
   "language": "python",
   "name": "python3"
  },
  "language_info": {
   "codemirror_mode": {
    "name": "ipython",
    "version": 3
   },
   "file_extension": ".py",
   "mimetype": "text/x-python",
   "name": "python",
   "nbconvert_exporter": "python",
   "pygments_lexer": "ipython3",
   "version": "3.12.3"
  }
 },
 "nbformat": 4,
 "nbformat_minor": 2
}
