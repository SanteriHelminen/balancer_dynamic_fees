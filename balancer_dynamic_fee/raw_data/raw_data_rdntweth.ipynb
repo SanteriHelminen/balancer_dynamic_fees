{
 "cells": [
  {
   "cell_type": "code",
   "execution_count": 1,
   "metadata": {},
   "outputs": [],
   "source": [
    "import os\n",
    "import pandas as pd\n",
    "import matplotlib.pyplot as plt\n",
    "import math\n",
    "import duckdb\n",
    "import numpy as np\n",
    "# Display all columns\n",
    "pd.set_option('display.max_columns', None)\n",
    "\n",
    "# Set max column width to a large value\n",
    "pd.set_option('display.max_colwidth', None)\n",
    "\n",
    "# Create a new DuckDB database file\n",
    "con = duckdb.connect('my_database.duckdb')"
   ]
  },
  {
   "cell_type": "code",
   "execution_count": 2,
   "metadata": {},
   "outputs": [
    {
     "name": "stdout",
     "output_type": "stream",
     "text": [
      "Created DataFrame: SwapFeePercentageChanged\n",
      "Created DataFrame: ProtocolFeePercentageCacheUpdated\n",
      "Created DataFrame: Transfer\n",
      "Created DataFrame: Approval\n"
     ]
    }
   ],
   "source": [
    "import pandas as pd\n",
    "import re\n",
    "\n",
    "# Read the CSV file line by line\n",
    "file_path = 'rdntweth_decoded.csv'\n",
    "lines = []\n",
    "\n",
    "with open(file_path, 'r') as file:\n",
    "    lines = file.readlines()\n",
    "\n",
    "# Initialize dictionaries to store lines for each transaction type\n",
    "transaction_dict = {}\n",
    "\n",
    "# Function to parse fields without combining text between single quotes\n",
    "def parse_line(line):\n",
    "    fields = line.split(',')\n",
    "    fields = [field.strip() for field in fields]\n",
    "    return fields\n",
    "\n",
    "# Iterate over each line to categorize it based on the 6th field\n",
    "for line in lines:\n",
    "    fields = parse_line(line.strip())\n",
    "    if len(fields) > 5:  # Ensure there are at least 6 fields after cleaning\n",
    "        transaction_type = fields[5]\n",
    "        if transaction_type not in transaction_dict:\n",
    "            transaction_dict[transaction_type] = []\n",
    "        transaction_dict[transaction_type].append(fields)\n",
    "\n",
    "# Create separate DataFrames for each transaction type\n",
    "dataframes = {}\n",
    "for transaction_type, data in transaction_dict.items():\n",
    "    # Determine the number of columns for this transaction type\n",
    "    num_columns = max(len(fields) for fields in data)\n",
    "    # Pad the data with empty strings to ensure all rows have the same number of columns\n",
    "    padded_data = [fields + [''] * (num_columns - len(fields)) for fields in data]\n",
    "    # Create DataFrame\n",
    "    df = pd.DataFrame(padded_data, columns=[f'Field_{i+1}' for i in range(num_columns)])\n",
    "    dataframes[transaction_type] = df\n",
    "\n",
    "# Print out the names of the created DataFrames\n",
    "for transaction_type in dataframes.keys():\n",
    "    print(f'Created DataFrame: {transaction_type}')\n",
    "\n",
    "SwapFeePercentageChanged = dataframes['SwapFeePercentageChanged']\n"
   ]
  },
  {
   "cell_type": "code",
   "execution_count": 3,
   "metadata": {},
   "outputs": [
    {
     "data": {
      "text/html": [
       "<div>\n",
       "<style scoped>\n",
       "    .dataframe tbody tr th:only-of-type {\n",
       "        vertical-align: middle;\n",
       "    }\n",
       "\n",
       "    .dataframe tbody tr th {\n",
       "        vertical-align: top;\n",
       "    }\n",
       "\n",
       "    .dataframe thead th {\n",
       "        text-align: right;\n",
       "    }\n",
       "</style>\n",
       "<table border=\"1\" class=\"dataframe\">\n",
       "  <thead>\n",
       "    <tr style=\"text-align: right;\">\n",
       "      <th></th>\n",
       "      <th>Field_1</th>\n",
       "      <th>Field_2</th>\n",
       "      <th>Field_3</th>\n",
       "      <th>Field_4</th>\n",
       "      <th>Field_5</th>\n",
       "      <th>Field_6</th>\n",
       "      <th>Field_7</th>\n",
       "      <th>Field_8</th>\n",
       "      <th>Field_9</th>\n",
       "      <th>Field_10</th>\n",
       "      <th>Field_11</th>\n",
       "      <th>Field_12</th>\n",
       "      <th>Field_13</th>\n",
       "      <th>Field_14</th>\n",
       "      <th>Field_15</th>\n",
       "      <th>Field_16</th>\n",
       "    </tr>\n",
       "  </thead>\n",
       "  <tbody>\n",
       "    <tr>\n",
       "      <th>0</th>\n",
       "      <td>18466412</td>\n",
       "      <td>29</td>\n",
       "      <td>52</td>\n",
       "      <td>0x4e9d7051cfb7dc6c3dd69ea9ce8fd2bcde17da490dbb37e294fdf73656e11bf7</td>\n",
       "      <td>0xcF7b51ce5755513d4bE016b0e28D6EDEffa1d52a</td>\n",
       "      <td>SwapFeePercentageChanged</td>\n",
       "      <td>5000000000000000</td>\n",
       "      <td>None</td>\n",
       "      <td>None</td>\n",
       "      <td>None</td>\n",
       "      <td>None</td>\n",
       "      <td>None</td>\n",
       "      <td>None</td>\n",
       "      <td>None</td>\n",
       "      <td>None</td>\n",
       "      <td>None</td>\n",
       "    </tr>\n",
       "  </tbody>\n",
       "</table>\n",
       "</div>"
      ],
      "text/plain": [
       "    Field_1 Field_2 Field_3  \\\n",
       "0  18466412      29      52   \n",
       "\n",
       "                                                              Field_4  \\\n",
       "0  0x4e9d7051cfb7dc6c3dd69ea9ce8fd2bcde17da490dbb37e294fdf73656e11bf7   \n",
       "\n",
       "                                      Field_5                   Field_6  \\\n",
       "0  0xcF7b51ce5755513d4bE016b0e28D6EDEffa1d52a  SwapFeePercentageChanged   \n",
       "\n",
       "            Field_7 Field_8 Field_9 Field_10 Field_11 Field_12 Field_13  \\\n",
       "0  5000000000000000    None    None     None     None     None     None   \n",
       "\n",
       "  Field_14 Field_15 Field_16  \n",
       "0     None     None     None  "
      ]
     },
     "execution_count": 3,
     "metadata": {},
     "output_type": "execute_result"
    }
   ],
   "source": [
    "SwapFeePercentageChanged"
   ]
  },
  {
   "cell_type": "code",
   "execution_count": 4,
   "metadata": {},
   "outputs": [],
   "source": [
    "selected_columns = {'Field_1': 'block_number', 'Field_3': 'log_index', 'Field_4': 'transaction_hash', 'Field_6':'event', 'Field_7': 'fee'}\n",
    "SwapFeePercentageChanged = SwapFeePercentageChanged[list(selected_columns.keys())].rename(columns=selected_columns)"
   ]
  },
  {
   "cell_type": "code",
   "execution_count": 5,
   "metadata": {},
   "outputs": [
    {
     "data": {
      "text/html": [
       "<div>\n",
       "<style scoped>\n",
       "    .dataframe tbody tr th:only-of-type {\n",
       "        vertical-align: middle;\n",
       "    }\n",
       "\n",
       "    .dataframe tbody tr th {\n",
       "        vertical-align: top;\n",
       "    }\n",
       "\n",
       "    .dataframe thead th {\n",
       "        text-align: right;\n",
       "    }\n",
       "</style>\n",
       "<table border=\"1\" class=\"dataframe\">\n",
       "  <thead>\n",
       "    <tr style=\"text-align: right;\">\n",
       "      <th></th>\n",
       "      <th>block_number</th>\n",
       "      <th>log_index</th>\n",
       "      <th>transaction_hash</th>\n",
       "      <th>event</th>\n",
       "      <th>fee</th>\n",
       "    </tr>\n",
       "  </thead>\n",
       "  <tbody>\n",
       "    <tr>\n",
       "      <th>0</th>\n",
       "      <td>18466412</td>\n",
       "      <td>52</td>\n",
       "      <td>0x4e9d7051cfb7dc6c3dd69ea9ce8fd2bcde17da490dbb37e294fdf73656e11bf7</td>\n",
       "      <td>SwapFeePercentageChanged</td>\n",
       "      <td>5000000000000000</td>\n",
       "    </tr>\n",
       "  </tbody>\n",
       "</table>\n",
       "</div>"
      ],
      "text/plain": [
       "  block_number log_index  \\\n",
       "0     18466412        52   \n",
       "\n",
       "                                                     transaction_hash  \\\n",
       "0  0x4e9d7051cfb7dc6c3dd69ea9ce8fd2bcde17da490dbb37e294fdf73656e11bf7   \n",
       "\n",
       "                      event               fee  \n",
       "0  SwapFeePercentageChanged  5000000000000000  "
      ]
     },
     "execution_count": 5,
     "metadata": {},
     "output_type": "execute_result"
    }
   ],
   "source": [
    "SwapFeePercentageChanged"
   ]
  },
  {
   "cell_type": "code",
   "execution_count": 6,
   "metadata": {},
   "outputs": [],
   "source": [
    "con.execute('CREATE TABLE rdntweth_fee_change AS SELECT * FROM SwapFeePercentageChanged').fetchdf()\n",
    "\n",
    "# Commit the changes\n",
    "con.commit()\n",
    "\n",
    "# Close the connection\n",
    "con.close()"
   ]
  }
 ],
 "metadata": {
  "kernelspec": {
   "display_name": "Python 3",
   "language": "python",
   "name": "python3"
  },
  "language_info": {
   "codemirror_mode": {
    "name": "ipython",
    "version": 3
   },
   "file_extension": ".py",
   "mimetype": "text/x-python",
   "name": "python",
   "nbconvert_exporter": "python",
   "pygments_lexer": "ipython3",
   "version": "3.12.3"
  }
 },
 "nbformat": 4,
 "nbformat_minor": 2
}
