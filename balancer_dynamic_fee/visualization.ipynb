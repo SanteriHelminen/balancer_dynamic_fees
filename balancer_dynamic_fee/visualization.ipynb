{
 "cells": [
  {
   "cell_type": "code",
   "execution_count": null,
   "metadata": {},
   "outputs": [],
   "source": [
    "import duckdb\n",
    "import pandas as pd\n",
    "import matplotlib.pyplot as plt\n",
    "import matplotlib.transforms as transforms"
   ]
  },
  {
   "cell_type": "code",
   "execution_count": null,
   "metadata": {},
   "outputs": [],
   "source": [
    "# Connect to the DuckDB database, fetch data\n",
    "con = duckdb.connect('my_database.duckdb')\n",
    "df = con.execute(\"SELECT * FROM metric_mainnet_lvr_impact_analysis_all\").fetchdf()\n",
    "con.close()\n",
    "\n",
    "\n",
    "# Group the dataframe by pool_name and category\n",
    "grouped = df.groupby(['pool_name', 'category'])\n",
    "\n",
    "# Create a plot for each pool and category combination\n",
    "for (name, category), group in grouped:\n",
    "    fig, ax = plt.subplots(figsize=(12, 4))\n",
    "    \n",
    "    # Create a line plot for each fee_type within the category\n",
    "    for fee_type in group['fee_type'].unique():\n",
    "        data = group[group['fee_type'] == fee_type]\n",
    "        # Sort the data by avg_fee_tier to ensure the line is drawn correctly\n",
    "        data = data.sort_values('avg_fee_tier')\n",
    "        ax.plot(data['avg_fee_tier'] * 100, data['fees_change'], label=fee_type, marker='o')\n",
    "    \n",
    "    # Add the base_avg_fee_tier as a vertical line\n",
    "    base_fee_tier = group['base_avg_fee_tier'].iloc[0]  # Assuming it's the same for all rows in a group\n",
    "    if base_fee_tier <= 0.01:\n",
    "        ax.axvline(x=base_fee_tier * 100, color='g', linestyle='--')\n",
    "        \n",
    "        # Add vertical label for the base fee tier line\n",
    "        trans = transforms.blended_transform_factory(ax.transData, ax.transAxes)\n",
    "        ax.text(base_fee_tier * 100, 0.5, f'Base Fee Tier: {base_fee_tier*100:.2f}%', \n",
    "                rotation=90, va='center', ha='left', color='g',\n",
    "                transform=trans, transform_rotates_text=True)\n",
    "    \n",
    "    ax.set_title(f'Fees Change vs Average Fee Tier for {name}\\nCategory: {category}')\n",
    "    ax.set_xlabel('Average Fee Tier (%)')\n",
    "    ax.set_ylabel('Fees Change (%)')\n",
    "    ax.legend()\n",
    "    ax.grid(True, alpha=0.3)\n",
    "    \n",
    "    # Add a horizontal line at y=0 for reference\n",
    "    ax.axhline(y=0, color='r', linestyle='--', alpha=0.5)\n",
    "    \n",
    "    # Adjust y-axis to show full range of data\n",
    "    ax.set_ylim(group['fees_change'].min() - 5, group['fees_change'].max() + 5)\n",
    "    \n",
    "    # Set x-axis limit to 1% (which is 0.01 in decimal form)\n",
    "    ax.set_xlim(0, 1)\n",
    "    \n",
    "    # Add text to indicate if base fee tier is out of view\n",
    "    if base_fee_tier > 0.01:\n",
    "        ax.text(0.99, 0.98, f'Base Fee Tier: {base_fee_tier*100:.4f}%', \n",
    "                transform=ax.transAxes, ha='right', va='top', \n",
    "                bbox=dict(facecolor='white', edgecolor='none', alpha=0.7))\n",
    "    \n",
    "    plt.tight_layout()\n",
    "    plt.show()"
   ]
  }
 ],
 "metadata": {
  "language_info": {
   "name": "python"
  }
 },
 "nbformat": 4,
 "nbformat_minor": 2
}
